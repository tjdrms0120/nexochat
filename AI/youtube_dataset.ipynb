{
  "cells": [
    {
      "cell_type": "markdown",
      "metadata": {
        "id": "bOg8GhNoB8lq"
      },
      "source": [
        "### Prepare Environment"
      ]
    },
    {
      "cell_type": "code",
      "execution_count": 2,
      "metadata": {
        "id": "M7F36SOOCA7x"
      },
      "outputs": [],
      "source": [
        "!pip install yt-dlp -q -U\n",
        "!pip install pydub"
      ]
    },
    {
      "cell_type": "code",
      "execution_count": null,
      "metadata": {
        "id": "Hm_GEe-HCUfq"
      },
      "outputs": [],
      "source": [
        "import re\n",
        "import pandas as pd\n",
        "import subprocess\n",
        "import os\n",
        "import glob\n",
        "from tqdm import tqdm\n",
        "import copy\n",
        "from pydub import AudioSegment\n",
        "import json\n",
        "from concurrent.futures import ProcessPoolExecutor"
      ]
    },
    {
      "cell_type": "markdown",
      "metadata": {
        "id": "WbWPAWMMBnjw"
      },
      "source": [
        "## 1. 음성, 자막 다운로드"
      ]
    },
    {
      "cell_type": "markdown",
      "metadata": {
        "id": "0L1lKsYpDgjC"
      },
      "source": [
        "### 1-1. 데이터 준비"
      ]
    },
    {
      "cell_type": "code",
      "execution_count": null,
      "metadata": {
        "id": "ZCN209K5B8B2"
      },
      "outputs": [],
      "source": [
        "# 영상 링크를 통해 음성 다운로드\n",
        "# 영상 링크 데이터가 있는 csv 파일 준비\n",
        "\n",
        "df = pd.read_csv('your_data.csv')"
      ]
    },
    {
      "cell_type": "markdown",
      "metadata": {
        "id": "Rla8JF2CDikx"
      },
      "source": [
        "### 1-2. 음성 다운로드"
      ]
    },
    {
      "cell_type": "markdown",
      "metadata": {
        "id": "oh05GRWAEg3O"
      },
      "source": [
        "일관되지 않은 Youtube 영상의 링크 형태를 하나로 통일한다. \n",
        "\n",
        "- `https://www.youtube.com/live/id`\n",
        "- `https://www.youtube.com/watch?v=id`\n",
        "- `https://youtu.be/id`\n",
        "\n",
        "-> \n",
        "\n",
        "- `https://www.youtube.com/watch?v=id`"
      ]
    },
    {
      "cell_type": "code",
      "execution_count": null,
      "metadata": {
        "id": "06mPeXoxEjZ8"
      },
      "outputs": [],
      "source": [
        "# 다양한 형태의 링크에서 비디오 ID를 추출하고 새로운 링크와 ID를 반환\n",
        "# 최종 링크 형태를 통일시킨다. \n",
        "\n",
        "def youtube_data(link):\n",
        "    if 'youtube.com' in link:\n",
        "        if '/live/' in link:\n",
        "            video_id = link.split('live/')[1][:11]\n",
        "\n",
        "        else:\n",
        "            start_idx = link.index('=') + 1\n",
        "            video_id = link[start_idx:start_idx+11]\n",
        "\n",
        "    elif 'youtu.be' in link:\n",
        "        video_id = link[17:28]\n",
        "\n",
        "    new_link = f'https://www.youtube.com/watch?v={video_id}' if video_id else None\n",
        "    return new_link, video_id\n",
        "\n",
        "df['link'], df['video_id'] = zip(*df['링크'].map(youtube_data))\n",
        "df.drop('링크', axis=1, inplace=True)"
      ]
    },
    {
      "cell_type": "code",
      "execution_count": null,
      "metadata": {
        "id": "VeBYbxVyFe4u"
      },
      "outputs": [],
      "source": [
        "# 'video_id' 기준으로 중복 제거\n",
        "df = df.drop_duplicates(subset=['video_id'])"
      ]
    },
    {
      "cell_type": "markdown",
      "metadata": {},
      "source": [
        "**ffmpeg를 사용하여 오디오를 16kHz, 모노 채널로 변환**\n",
        "\n",
        "- whisper는 `16kHz`, `모노 채널` 데이터를 input으로 받는다.\n",
        "- youtube 오디오는 대부분 `44.1kHz`/`48kHz`, `스테레오 채널`이다.\n",
        "- 따라서 sampling rate 조정을 통해 용량을 1/3으로 줄이고, 채널 수 조정을 통해 용량을 1/2로 줄여서, 총 용량을 1/6로 줄일 수 있다."
      ]
    },
    {
      "cell_type": "code",
      "execution_count": 7,
      "metadata": {
        "id": "-o2QqhTSIJtJ"
      },
      "outputs": [],
      "source": [
        "# 오디오를 16kHz, 모노 채널로 변환\n",
        "def convert_to_16k_mono(input_path, output_path):\n",
        "    try:\n",
        "        command = [\n",
        "            'ffmpeg', '-y',\n",
        "            '-i', input_path,\n",
        "            '-ac', '1',\n",
        "            '-ar', '16000',\n",
        "            output_path\n",
        "        ]\n",
        "        subprocess.run(command, stdout=subprocess.PIPE, stderr=subprocess.PIPE, check=True)\n",
        "    except subprocess.CalledProcessError as e:\n",
        "        print(f\"Error: {e.stderr.decode()}\")\n",
        "\n",
        "\n",
        "url_list = list(df['link'])\n",
        "\n",
        "# 오디오 다운로드 및 처리\n",
        "for url in tqdm(url_list):\n",
        "    video_url = url\n",
        "    temp_output_path = \"/content/full_audio/%(id)s_tmp.%(ext)s\"\n",
        "\n",
        "    command_download = [\n",
        "        \"yt-dlp\", \"-x\",\n",
        "        \"--audio-format\", \"wav\",\n",
        "        \"--audio-quality\", \"0\",\n",
        "        \"-o\",\n",
        "        temp_output_path,\n",
        "        video_url\n",
        "    ]\n",
        "    subprocess.run(command_download, stdout=subprocess.PIPE, stderr=subprocess.PIPE, text=True)\n",
        "\n",
        "    # 변환된 임시 파일 경로와 최종 파일 경로\n",
        "    video_id = video_url.split('=')[1]\n",
        "    temp_file_path = f\"/content/full_audio/{video_id}_tmp.wav\"\n",
        "    final_file_path = f\"/content/full_audio/{video_id}.wav\"\n",
        "\n",
        "    # 파일 변환\n",
        "    convert_to_16k_mono(temp_file_path, final_file_path)\n",
        "\n",
        "    # 임시 파일 삭제\n",
        "    os.remove(temp_file_path)"
      ]
    },
    {
      "cell_type": "markdown",
      "metadata": {
        "id": "usRXHIW-DphA"
      },
      "source": [
        "### 1-3. 자막 다운로드\n",
        "- 사람이 수기로 작성한 한국어 자막만을 다운로드한다.\n",
        "- 자동 생성 자막 제외"
      ]
    },
    {
      "cell_type": "code",
      "execution_count": null,
      "metadata": {
        "id": "fhvL_FjnDJ3e"
      },
      "outputs": [],
      "source": [
        "# 사람이 만든 한국어자막 이름 반환하는 함수\n",
        "\n",
        "def get_subtitles_list(video_url):\n",
        "    # yt-dlp 명령어 구성\n",
        "    command = [\"yt-dlp\", video_url, \"--list-subs\"]\n",
        "\n",
        "    # 명령어 실행 및 출력 캡처\n",
        "    result = subprocess.run(command, stdout=subprocess.PIPE, stderr=subprocess.PIPE, text=True)\n",
        "\n",
        "    # 출력에서 오류 확인\n",
        "    if result.stderr:\n",
        "        print(\"Error:\", result.stderr)\n",
        "        return []\n",
        "\n",
        "    # 결과 출력 파싱\n",
        "    # '[info] Available subtitles for E-YzA2fUaks:' 이후 수기 작성 자막 언어 정보 제공됨\n",
        "    subtitles_list = []\n",
        "    lines = result.stdout.split('\\n')\n",
        "\n",
        "    try:\n",
        "        if 'has no subtitles' in lines[-2]: # 수기 작성 자막이 없는 경우\n",
        "            return None\n",
        "\n",
        "        else:\n",
        "            for i in range(len(lines)-1, 0, -1):\n",
        "\n",
        "                if 'Available subtitles for' in lines[i]:\n",
        "                    break\n",
        "\n",
        "                subtitles_list.append(lines[i])\n",
        "\n",
        "            # 'ko-'로 시작하는 한국어 자막만을 저장\n",
        "            pattern = r'ko-[^ ]+'\n",
        "            matches = []\n",
        "\n",
        "            for sub in subtitles_list:\n",
        "                if re.findall(pattern, sub):\n",
        "                    matches.append(re.findall(pattern, sub))\n",
        "                elif 'ko ' in sub:\n",
        "                    matches.append(['ko'])\n",
        "            return matches[0][0]\n",
        "    except IndexError:\n",
        "        pass"
      ]
    },
    {
      "cell_type": "code",
      "execution_count": 8,
      "metadata": {
        "id": "KZ1spEGvF2K0"
      },
      "outputs": [],
      "source": [
        "def download_subtitles(url):\n",
        "\n",
        "     # get_subtitles_list 함수 이용하여 수기 작성 한국어자막 확인\n",
        "     # 수기 작성 한국어자막이 존재하는 경우에만 다운로드 진행\n",
        "    sub_language = get_subtitles_list(url)\n",
        "\n",
        "    if sub_language:\n",
        "        command = [\n",
        "            \"yt-dlp\",\n",
        "            \"--sub-langs\", sub_language,\n",
        "            \"--write-subs\",\n",
        "            \"--skip-download\",\n",
        "            \"-o\", f\"/content/full_subtitle/%(id)s.%(ext)s\",\n",
        "            url\n",
        "        ]\n",
        "        result = subprocess.run(command, stdout=subprocess.PIPE, stderr=subprocess.PIPE, text=True)\n",
        "        return result.stderr, result.returncode\n",
        "    else:\n",
        "        print(f'{url}: 한글자막 없음')\n",
        "    return None, None\n",
        "\n",
        "# 자막 다운로드 함수\n",
        "# 3회까지 시도\n",
        "def retry_download(url, max_attempts=3):\n",
        "    attempt = 0\n",
        "    while attempt < max_attempts:\n",
        "        error, returncode = download_subtitles(url)\n",
        "        if not error or \"Incomplete data received\" not in error:\n",
        "            if returncode == 0:\n",
        "                return True  # 성공적으로 다운로드 완료\n",
        "            else:\n",
        "                return False  # 실패 반환\n",
        "        attempt += 1\n",
        "        print(f\"Retrying download for {url}, Attempt {attempt}\")\n",
        "    print(f\"Failed to download after {max_attempts} attempts for {url}\")\n",
        "    return False\n",
        "\n",
        "# URL 리스트를 이용하여 다운로드 시도하고 실패한 리스트 저장\n",
        "failed_urls = []\n",
        "for url in tqdm(url_list):\n",
        "    success = retry_download(url)\n",
        "    if not success:\n",
        "        failed_urls.append(url)  # 실패한 URL을 리스트에 추가\n",
        "\n",
        "# 실패한 URL 리스트 반환\n",
        "print(\"Failed URLs:\", failed_urls)"
      ]
    },
    {
      "cell_type": "markdown",
      "metadata": {
        "id": "ChZKfexEBqGx"
      },
      "source": [
        "## 2. 자막의 timestamp에 맞춰서 음성, 텍스트 분할"
      ]
    },
    {
      "cell_type": "markdown",
      "metadata": {
        "id": "8MpQLEHdI288"
      },
      "source": [
        "### 2-1. timestamp, 텍스트 정보 존재하는 csv 파일 먼저 생성\n",
        "- 음성 분할에 시간이 많이 소요되기 때문에, timestamp 와 자막 데이터를 먼저 저장한다."
      ]
    },
    {
      "cell_type": "code",
      "execution_count": null,
      "metadata": {
        "id": "ar6NADQnGtxM"
      },
      "outputs": [],
      "source": [
        "# 자막 vtt 파일에서 timestamp, 텍스트 정보 추출하는 함수\n",
        "def extract_text_with_timestamps(filename):\n",
        "\n",
        "    start_time = [] # 시작 timestamp 저장\n",
        "    end_time = [] # 끝 timestamp 저장\n",
        "    text = [] # 자막 텍스트 저장\n",
        "\n",
        "    flag = False\n",
        "\n",
        "    # start_timestamp --> end_timestamp '자막' 형태에서 정보 추출\n",
        "    with open(filename, 'r', encoding='utf-8') as file:\n",
        "\n",
        "        current_subtitle = []  # 현재 타임스탬프의 자막 누적\n",
        "\n",
        "        for line in file:\n",
        "            line = line.strip()\n",
        "\n",
        "            # timestamp 가 있는 줄\n",
        "            if '-->' in line:\n",
        "                flag = True\n",
        "\n",
        "                if current_subtitle:\n",
        "\n",
        "                    # 이전 자막을 리스트에 추가\n",
        "                    text.append(' '.join(current_subtitle))\n",
        "                    current_subtitle = []  # 자막 누적 리스트 초기화\n",
        "\n",
        "                # 타임스탬프 정보 추출\n",
        "                timestamp = line\n",
        "                st, et = timestamp.split(' --> ')\n",
        "                start_time.append(st.strip())\n",
        "                end_time.append(et.strip())\n",
        "\n",
        "            # timestamp 가 없는 줄\n",
        "            else:\n",
        "                # 첫 timestamp 나오기 전 텍스트는 저장하지 않음\n",
        "                if flag:\n",
        "                    current_subtitle.append(line)\n",
        "\n",
        "        # 마지막 자막 추가\n",
        "        if current_subtitle:\n",
        "            text.append(' '.join(current_subtitle))\n",
        "\n",
        "    df = pd.DataFrame({\n",
        "        'text': text,\n",
        "        'start_time': start_time,\n",
        "        'end_time': end_time\n",
        "    })\n",
        "\n",
        "    return df"
      ]
    },
    {
      "cell_type": "code",
      "execution_count": null,
      "metadata": {
        "id": "ngKpnz9ZGoQ3"
      },
      "outputs": [],
      "source": [
        "# 자막 텍스트, start_timestamp, end_timestamp 정보 dataframe으로 저장\n",
        "# 자막 정보 존재하는 vtt 파일\n",
        "vtt_files = glob.glob('/content/full_subtitle/*.vtt')\n",
        "\n",
        "df['timestamp_subtitle_csv_path'] = None\n",
        "\n",
        "for file_path in vtt_files:\n",
        "    video_id = file_path.split('/')[-1][:11]\n",
        "    text_output = extract_text_with_timestamps(file_path) # 자막, start_timestamp, end_timestamp 반환\n",
        "\n",
        "    output_directory = '/content/timestamp_subtitle'\n",
        "    os.makedirs(output_directory, exist_ok=True)\n",
        "\n",
        "    export_path = f'{output_directory}/{video_id}.csv'\n",
        "    text_output.to_csv(export_path, index=False, encoding='utf-8-sig')\n",
        "\n",
        "    # video_id에 해당하는 행을 찾아 csv_path 열을 업데이트\n",
        "    df.loc[df['video_id'] == video_id, 'timestamp_subtitle_csv_path'] = export_path"
      ]
    },
    {
      "cell_type": "markdown",
      "metadata": {
        "id": "w6axrCgWI94m"
      },
      "source": [
        "### 2-2. timestamp 에 따라 음성 분할"
      ]
    },
    {
      "cell_type": "code",
      "execution_count": null,
      "metadata": {
        "id": "ZqSAaBmUI-9Y"
      },
      "outputs": [],
      "source": [
        "# 시간 문자열을 밀리초로 변환하는 함수\n",
        "def time_to_milliseconds(t):\n",
        "    return pd.to_timedelta(t).total_seconds() * 1000"
      ]
    },
    {
      "cell_type": "code",
      "execution_count": 9,
      "metadata": {
        "id": "oSl9mmMVLvBU"
      },
      "outputs": [],
      "source": [
        "for idx, row in tqdm(df.iterrows()):\n",
        "\n",
        "    # timestamp_subtitle_csv_path 읽어오기\n",
        "    # 자막 텍스트, start_timestamp, end_timestamp 정보 존재\n",
        "    subtitle_data = pd.read_csv(row['timestamp_subtitle_csv_path'])\n",
        "    df = copy.deepcopy(subtitle_data)\n",
        "\n",
        "    # 시간 형식 변환\n",
        "    df['start_time'] = df['start_time'].apply(time_to_milliseconds)\n",
        "    df['end_time'] = df['end_time'].apply(time_to_milliseconds)\n",
        "\n",
        "    video_id = row['video_id']\n",
        "\n",
        "    # 원 음성 오디오 위치 확인\n",
        "    audio = AudioSegment.from_wav(f'/content/full_audio/{video_id}.wav')\n",
        "\n",
        "    # 오디오와 자막 저장 폴더 경로 설정\n",
        "    audio_save_folder = f\"/content/youtube_dataset/audio/{video_id}\"\n",
        "    subtitle_save_folder = f\"/content/youtube_dataset/subtitles/{video_id}\"\n",
        "\n",
        "    # 폴더 생성\n",
        "    os.makedirs(audio_save_folder, exist_ok=True)\n",
        "    os.makedirs(subtitle_save_folder, exist_ok=True)\n",
        "\n",
        "    # 저장된 파일 경로를 저장할 리스트\n",
        "    saved_audio_path = []\n",
        "    saved_subtitle_path = []\n",
        "\n",
        "    # 자막 데이터를 이용해 오디오와 텍스트 파일 분할 및 저장\n",
        "    for index, row in df.iterrows():\n",
        "        start_time = int(row['start_time'])\n",
        "        end_time = int(row['end_time'])\n",
        "\n",
        "        # 파일 이름: 00000.wav, 00000.txt\n",
        "        file_name = str(index).zfill(5)\n",
        "\n",
        "        # 오디오 세그먼트 추출\n",
        "        segment = audio[start_time:end_time]\n",
        "        export_path = os.path.join(audio_save_folder, f\"{file_name}.wav\")\n",
        "        segment.export(export_path, format=\"wav\")\n",
        "        saved_audio_path.append(export_path)\n",
        "\n",
        "        # 텍스트 파일 생성\n",
        "        export_path = os.path.join(subtitle_save_folder, f\"{file_name}.txt\")\n",
        "        with open(export_path, 'w', encoding='utf-8') as file:\n",
        "            file.write(str(row['text']))  # 텍스트 파일에 자막 저장\n",
        "\n",
        "        saved_subtitle_path.append(export_path)"
      ]
    },
    {
      "cell_type": "markdown",
      "metadata": {
        "id": "Q4SetHa7BwHZ"
      },
      "source": [
        "## 3. 음성, 자막 30초 단위로 병합"
      ]
    },
    {
      "cell_type": "markdown",
      "metadata": {
        "id": "6woHmEA5V2xW"
      },
      "source": [
        "### 3-1. 간단한 텍스트 전처리"
      ]
    },
    {
      "cell_type": "markdown",
      "metadata": {
        "id": "Y7JBfAzxVKDZ"
      },
      "source": [
        "- 결측치 삭제\n",
        "- [설명], (의성어) 등 발화 정보가 없는 텍스트에 해당하는 음성이 합쳐지면 학습 데이터의 품질을 저하시킨다.\n",
        "- 따라서 괄호와 함께 괄호 안 텍스트를 제거한다."
      ]
    },
    {
      "cell_type": "code",
      "execution_count": null,
      "metadata": {
        "id": "ntktVUFbTmTE"
      },
      "outputs": [],
      "source": [
        "# 괄호와 괄호 속 텍스트를 삭제하는 함수\n",
        "def remove_brackets(txt):\n",
        "    stack = []\n",
        "    result = []\n",
        "\n",
        "    i = 0\n",
        "    while i < len(txt):\n",
        "        char = txt[i]\n",
        "\n",
        "        # 여는 괄호를 만나면 스택에 푸시\n",
        "        if char in '[({<':\n",
        "            stack.append(char)\n",
        "        # 닫는 괄호를 만나면 스택 상태를 확인\n",
        "        elif char in '])}>':\n",
        "            if stack:\n",
        "                # 스택의 마지막 요소와 현재 문자가 짝이 맞는지 확인\n",
        "                last = stack[-1]\n",
        "                if (last == '[' and char == ']') or \\\n",
        "                   (last == '(' and char == ')') or \\\n",
        "                   (last == '{' and char == '}') or \\\n",
        "                   (last == '<' and char == '>'):\n",
        "                    stack.pop()  # 짝이 맞으면 스택에서 제거\n",
        "        else:\n",
        "            # 스택이 비어있으면 괄호 밖의 문자이므로 결과에 추가\n",
        "            if not stack:\n",
        "                result.append(char)\n",
        "\n",
        "        i += 1\n",
        "\n",
        "    # 결과 문자열을 조합\n",
        "    result = ''.join(result)\n",
        "    # 결과가 공백인 경우 None 반환, 그렇지 않으면 결과 반환\n",
        "    return None if not result.strip() else result"
      ]
    },
    {
      "cell_type": "code",
      "execution_count": null,
      "metadata": {
        "id": "fnnTaq36XQuB"
      },
      "outputs": [],
      "source": [
        "# timestamp 에 공백 존재하는 경우 제거\n",
        "def preprocess_time(t):\n",
        "    t = t.str.split(' ').str[0]\n",
        "    return pd.to_timedelta(t).dt.total_seconds() * 1000\n",
        "\n",
        "# milliseconds 을 TimeDelta 형태로 전환\n",
        "def format_timedelta(milliseconds):\n",
        "\n",
        "    td = pd.to_timedelta(milliseconds, unit='ms')\n",
        "\n",
        "    # hours, minutes, seconds, milliseconds\n",
        "    hours, remainder = divmod(td.seconds, 3600)\n",
        "    minutes, seconds = divmod(remainder, 60)\n",
        "    hours += td.days * 24 # days -> hours\n",
        "\n",
        "    # milliseconds\n",
        "    milliseconds = td.microseconds // 1000\n",
        "\n",
        "    # hours:minutes:seconds.milliseconds 형태\n",
        "    formatted_time = f\"{hours:02}:{minutes:02}:{seconds:02}.{milliseconds:03}\"\n",
        "    return formatted_time"
      ]
    },
    {
      "cell_type": "code",
      "execution_count": null,
      "metadata": {
        "id": "0KwQKzkgTmRk"
      },
      "outputs": [],
      "source": [
        "# 텍스트 전처리, 결측값 제거 후 다시 저장\n",
        "\n",
        "timestamp_subtitle_paths = glob.glob('/content/timestamp_subtitle/*')\n",
        "\n",
        "\n",
        "for path in timestamp_subtitle_paths:\n",
        "    video_id = path[-15:-4]\n",
        "\n",
        "    info_df = pd.read_csv(path)\n",
        "\n",
        "    # time_length\n",
        "    # 한 텍스트에 해당하는 오디오 길이 계산\n",
        "    # timedelta 형태에서 preprocess_time 함수 적용하여 길이를 계산한 후, format_timedelta 함수를 통해 시간 형태 통일\n",
        "    info_df['time_length'] = preprocess_time(info_df['end_time']) - preprocess_time(info_df['start_time'])\n",
        "    info_df['time_length'] = info_df['time_length'].apply(format_timedelta)\n",
        "\n",
        "    # 텍스트 결측치 삭제\n",
        "    info_df.dropna(subset=['text'], inplace=True)\n",
        "\n",
        "    # 텍스트를 문자열로 변환한 후, 괄호 제거 전처리 진행\n",
        "    info_df['text'] = info_df['text'].astype(str)\n",
        "    info_df['text'] = info_df['text'].apply(remove_brackets)\n",
        "\n",
        "    # 괄호 제거 후 결측치 다시 제거\n",
        "    info_df.dropna(subset=['text'], inplace=True)\n",
        "\n",
        "    # 결측치 제거 후, 텍스트에 해당하는 오디오 정보 추가\n",
        "    info_df['audio'] = info_df.index.astype(str).str.zfill(5) + '.wav'\n",
        "\n",
        "    info_df = info_df[['audio', 'text', 'start_time', 'end_time', 'time_length']]\n",
        "    info_df.to_csv(path, index=False)\n"
      ]
    },
    {
      "cell_type": "markdown",
      "metadata": {
        "id": "5pH_ymstqmOE"
      },
      "source": [
        "### 3-2. 누적 시간 계산"
      ]
    },
    {
      "cell_type": "markdown",
      "metadata": {
        "id": "eN5apFX5rxhd"
      },
      "source": [
        "- whisper는 30초 길이의 음성까지 input으로 받을 수 있다.\n",
        "- whisper가 처리하는 데이터의 수를 줄이기 위해, 분할된 오디오와 자막을 누적 병합하여 최대한 30초에 가깝게 만든다."
      ]
    },
    {
      "cell_type": "code",
      "execution_count": 10,
      "metadata": {
        "id": "2XoIJ7gvsxN-"
      },
      "outputs": [],
      "source": [
        "timestamp_subtitle_paths = glob.glob('/content/timestamp_subtitle/*')\n",
        "\n",
        "for path in tqdm(timestamp_subtitle_paths):\n",
        "\n",
        "    video_id = path[-15:-4]\n",
        "    sub_data = pd.read_csv(path)\n",
        "\n",
        "    flag = []\n",
        "\n",
        "    # stacked_time 누적시간 계산\n",
        "    sub_data.stacked_time = pd.to_timedelta('00:00:00')\n",
        "    i = pd.to_timedelta('00:00:00')\n",
        "\n",
        "    for idx_sub, row_sub in sub_data.iterrows():\n",
        "        i += pd.to_timedelta(row_sub['time_length'])\n",
        "\n",
        "        if i > pd.to_timedelta('00:00:30'):\n",
        "            flag.append(idx_sub)\n",
        "            i = pd.to_timedelta(row_sub['time_length']) # 초기화할 때 0이 아니라 첫 번째 요소의 time_length로 해야 누적합을 제대로 구할 수 있다.\n",
        "        sub_data.loc[idx_sub, 'stacked_time'] = i"
      ]
    },
    {
      "cell_type": "markdown",
      "metadata": {
        "id": "H66_nJbbvCLF"
      },
      "source": [
        "### 3-3. 30초 단위 텍스트, 오디오 데이터 생성"
      ]
    },
    {
      "cell_type": "code",
      "execution_count": 11,
      "metadata": {
        "id": "vbhdjDSCrveS"
      },
      "outputs": [],
      "source": [
        "# 30초 단위 텍스트와, 텍스트에 해당하는 오디오 파일들의 정보를 저장한다.\n",
        "\n",
        "timestamp_subtitle_paths = glob.glob('/content/timestamp_subtitle/*')\n",
        "\n",
        "for path in tqdm(timestamp_subtitle_paths):\n",
        "\n",
        "    video_id = path[-15:-4]\n",
        "    sub_data = pd.read_csv(path)\n",
        "\n",
        "    flag = []\n",
        "\n",
        "    # stacked_time 누적시간 계산\n",
        "    sub_data.stacked_time = pd.to_timedelta('00:00:00')\n",
        "    i = pd.to_timedelta('00:00:00')\n",
        "\n",
        "    for idx_sub, row_sub in sub_data.iterrows():\n",
        "        i += pd.to_timedelta(row_sub['time_length'])\n",
        "\n",
        "        # 누적 시간이 30초 넘으면 초기화\n",
        "        if i > pd.to_timedelta('00:00:30'):\n",
        "            flag.append(idx_sub)\n",
        "            i = pd.to_timedelta(row_sub['time_length']) # 초기화할 때 0이 아니라 첫 번째 요소의 time_length로 해야 누적합을 제대로 구할 수 있다.\n",
        "\n",
        "        sub_data.loc[idx_sub, 'stacked_time'] = i\n",
        "\n",
        "    # timestamp_subtitle에 누적 시간 정보 추가\n",
        "    sub_data.to_csv(f'/content/timestamp_subtitle/{video_id}.csv', index=False)\n",
        "\n",
        "    # 30초 단위로 저장\n",
        "    groups = []\n",
        "    start = 0\n",
        "\n",
        "    for end in flag:\n",
        "        groups.append((start, end))\n",
        "        start = end\n",
        "\n",
        "    # 마지막 그룹을 추가\n",
        "    groups.append((start, len(sub_data) - 1))\n",
        "\n",
        "    # 결과를 저장할 빈 DataFrame\n",
        "    result = pd.DataFrame(columns=['text', 'audio_list'])\n",
        "\n",
        "\n",
        "    for start, end in groups:\n",
        "\n",
        "        # 30초 동안의 누적 텍스트를 합침\n",
        "        text_concat = ' '.join(map(str, sub_data.loc[start:end-1, 'text']))\n",
        "\n",
        "        # 30초 동안의 누적 오디오 파일 정보 저장\n",
        "        audio_concat = sub_data.loc[start:end-1, 'audio'].tolist()\n",
        "\n",
        "        # 새로운 행을 DataFrame에 추가\n",
        "        new_row = pd.DataFrame({\n",
        "            'text': [text_concat],\n",
        "            'audio_list':[audio_concat]\n",
        "        })\n",
        "\n",
        "        result = pd.concat([result, new_row], ignore_index=True)\n",
        "\n",
        "    # 최종 파일 저장\n",
        "    output_directory = '/content/30sec_info'\n",
        "    os.makedirs(output_directory, exist_ok=True)\n",
        "\n",
        "    export_path = f'{output_directory}/{video_id}.csv'\n",
        "    result.to_csv(export_path, index=False)\n"
      ]
    },
    {
      "cell_type": "code",
      "execution_count": null,
      "metadata": {
        "id": "3KYgoya2v1dC"
      },
      "outputs": [],
      "source": [
        "# 30초 단위 오디오 파일들의 정보를 기반으로 오디오를 병합한다.\n",
        "\n",
        "_30sec_info = glob.glob('/content/30sec_info/*')\n",
        "\n",
        "# 오디오, 자막 경로 정보 저장할 폴더 생성\n",
        "info_save_folder = f'/content/youtube_dataset_clean/info'\n",
        "os.makedirs(info_save_folder, exist_ok=True)\n",
        "\n",
        "def process_audio(csv_path):\n",
        "    video_id = csv_path[-15:-4]\n",
        "    df = pd.read_csv(csv_path)\n",
        "\n",
        "    # 오디오 저장할 폴더 생성\n",
        "    audio_save_folder = f'/content/youtube_dataset_clean/audio/{video_id}'\n",
        "    os.makedirs(audio_save_folder, exist_ok=True)\n",
        "\n",
        "    # 자막 저장할 폴더 생성\n",
        "    sub_save_folder = f'/content/youtube_dataset_clean/subtitles/{video_id}'\n",
        "    os.makedirs(sub_save_folder, exist_ok=True)\n",
        "\n",
        "    audio_info = []\n",
        "    subtitles_info = []\n",
        "\n",
        "    for num, row in enumerate(df.itertuples()):\n",
        "\n",
        "        # 병합해야 하는 오디오 정보\n",
        "        audio_merge_list = json.loads(row.audio_list.replace(\"'\", '\"'))\n",
        "\n",
        "        # 오디오 병합\n",
        "        merged_audio = AudioSegment.empty()\n",
        "\n",
        "        for audio_file in audio_merge_list:\n",
        "            audio_path = f'/content/youtube_dataset/audio/{video_id}/{audio_file}'\n",
        "            audio_segment = AudioSegment.from_file(audio_path)\n",
        "            merged_audio += audio_segment\n",
        "\n",
        "        num = str(num).zfill(5)\n",
        "\n",
        "        # 병합된 오디오 저장\n",
        "        audio_save_path = os.path.join(audio_save_folder, f'{num}.wav')\n",
        "        merged_audio.export(audio_save_path, format=\"wav\")\n",
        "\n",
        "        # 병합된 오디오 경로 저장\n",
        "        audio_info.append(audio_save_path)\n",
        "\n",
        "        # 병합된 자막 저장\n",
        "        sub_save_path = os.path.join(sub_save_folder, f'{num}.txt')\n",
        "        with open(sub_save_path, 'w', encoding='utf-8') as file:\n",
        "            file.write(str(row.text))\n",
        "\n",
        "        # 병합된 자막 경로 저장\n",
        "        subtitles_info.append(sub_save_path)\n",
        "\n",
        "    info = pd.DataFrame({\n",
        "        'subtitle_path': subtitles_info,\n",
        "        'audio_path': audio_info\n",
        "        })\n",
        "\n",
        "    info.to_csv(f'/content/youtube_dataset_clean/info/{video_id}.csv', index=False)\n",
        "\n",
        "# 병렬 작업 실행\n",
        "def main(_30sec_info):\n",
        "    with ProcessPoolExecutor() as executor:\n",
        "        list(tqdm(executor.map(process_audio, _30sec_info), total=len(_30sec_info)))"
      ]
    },
    {
      "cell_type": "code",
      "execution_count": 12,
      "metadata": {
        "id": "UCwNuZ4qySim"
      },
      "outputs": [],
      "source": [
        "main(_30sec_info)"
      ]
    },
    {
      "cell_type": "markdown",
      "metadata": {
        "id": "YwKbTfkF7uYJ"
      },
      "source": [
        "## 4. 텍스트 전처리"
      ]
    },
    {
      "cell_type": "markdown",
      "metadata": {
        "id": "1Bw22EuY76KT"
      },
      "source": [
        "- Youtube 데이터는 영상마다 자막의 스타일과 형태가 매우 다르므로, 최대한 각 영상에 맞춰 전처리를 진행했다.\n",
        "- 예시에서는 텍스트 전처리 없이 진행"
      ]
    },
    {
      "cell_type": "code",
      "execution_count": null,
      "metadata": {
        "id": "qNIBc1yEMYAJ"
      },
      "outputs": [],
      "source": [
        "from tqdm import tqdm"
      ]
    },
    {
      "cell_type": "code",
      "execution_count": 13,
      "metadata": {
        "id": "g4zFfuBXCrT7"
      },
      "outputs": [],
      "source": [
        "# 전처리 후 텍스트 저장\n",
        "\n",
        "preprocessed_info = glob.glob('/content/youtube_dataset_clean/info/*')\n",
        "\n",
        "for path in tqdm(preprocessed_info):\n",
        "    df = pd.read_csv(path)\n",
        "\n",
        "    df['text'] = None\n",
        "\n",
        "    for idx, row in df.iterrows():\n",
        "\n",
        "        # 전처리 후 텍스트 경로\n",
        "        text_file_path = row['subtitle_path']\n",
        "\n",
        "        # 텍스트 저장\n",
        "        with open(text_file_path, 'r') as file:\n",
        "            content = file.read()\n",
        "            df.at[idx, 'text'] = content\n",
        "\n",
        "    df.to_csv(path, index=False)"
      ]
    },
    {
      "cell_type": "markdown",
      "metadata": {
        "id": "Oh05lj_-CKMs"
      },
      "source": [
        "## 5. CER 필터링"
      ]
    },
    {
      "cell_type": "markdown",
      "metadata": {
        "id": "MO2IurWY7EAj"
      },
      "source": [
        "- 오디오 데이터를 whisper에 통과시켜서 나온 텍스트 정보와 유튜브 자막 데이터를 비교하여, CER이 일정 기준 이상인 데이터만 학습용으로 사용한다.\n",
        "- 학습 데이터를 충분히 확보하기 위해서, 텍스트 전처리가 모두 끝난 후 진행한다."
      ]
    },
    {
      "cell_type": "code",
      "execution_count": 3,
      "metadata": {
        "collapsed": true,
        "id": "q-CHmzhM8vi5"
      },
      "outputs": [],
      "source": [
        "# whisper 모델 사용을 위해 설치\n",
        "\n",
        "!pip install datasets>=2.6.1\n",
        "!pip install git+https://github.com/huggingface/transformers\n",
        "!pip install evaluate>=0.30\n",
        "!pip install jiwer\n",
        "!pip install accelerate -U\n",
        "!pip install transformers[torch]\n",
        "!pip install wandb\n",
        "!pip install ffmpeg\n",
        "!pip install -U openai-whisper"
      ]
    },
    {
      "cell_type": "code",
      "execution_count": null,
      "metadata": {
        "id": "y9qq9xN_6rAD"
      },
      "outputs": [],
      "source": [
        "import matplotlib.pyplot as plt\n",
        "import seaborn as sns\n",
        "from concurrent.futures import as_completed\n",
        "import wave\n",
        "import contextlib\n",
        "import soundfile as sf\n",
        "from transformers import WhisperFeatureExtractor, WhisperTokenizer, WhisperForConditionalGeneration\n",
        "import torch\n",
        "import whisper\n",
        "from datasets import load_metric\n",
        "import glob\n",
        "import pandas as pd\n",
        "from evaluate import load\n",
        "from tqdm import tqdm"
      ]
    },
    {
      "cell_type": "markdown",
      "metadata": {
        "id": "laP3a6pUO30E"
      },
      "source": [
        "### 5-1. STT 전사"
      ]
    },
    {
      "cell_type": "code",
      "execution_count": null,
      "metadata": {
        "id": "JTGjMlfsEsjU"
      },
      "outputs": [],
      "source": [
        "data_paths = glob.glob('/content/youtube_dataset_clean/info/*')"
      ]
    },
    {
      "cell_type": "code",
      "execution_count": null,
      "metadata": {
        "id": "QwxRH0QENMz7"
      },
      "outputs": [],
      "source": [
        "# 컬럼 이름 변경\n",
        "for path in data_paths:\n",
        "    df = pd.read_csv(path)\n",
        "    df.rename(columns={'text': 'transcript','audio_path':'raw_data','subtitle_path':'text_data'}, inplace=True)\n",
        "    df.reset_index(drop=True, inplace=True)\n",
        "\n",
        "    df.to_csv(path, index=False)"
      ]
    },
    {
      "cell_type": "code",
      "execution_count": null,
      "metadata": {
        "id": "yBner5LkRUYN"
      },
      "outputs": [],
      "source": [
        "# 데이터 통합\n",
        "\n",
        "dfs = [pd.read_csv(path) for path in data_paths]\n",
        "\n",
        "# 리스트에 저장된 DataFrame들을 하나로 합치기\n",
        "df = pd.concat(dfs, ignore_index=True)"
      ]
    },
    {
      "cell_type": "code",
      "execution_count": 14,
      "metadata": {
        "id": "yJhZXryUE3nJ"
      },
      "outputs": [],
      "source": [
        "# 디바이스 설정\n",
        "device = torch.device('cuda' if torch.cuda.is_available() else 'cpu')\n",
        "\n",
        "# 모델 불러오기\n",
        "model = whisper.load_model(\"base\", device=device)\n",
        "\n",
        "# STT 전사 함수\n",
        "def transcribe_audio(audio_input, sr=16000):\n",
        "    try:\n",
        "        audio = whisper.load_audio(audio_input, sr=sr)\n",
        "        result = model.transcribe(audio, fp16=False, language='ko')\n",
        "        return result\n",
        "    except Exception as e:\n",
        "        print(f\"Error transcribing file {audio_input}: {e}\")\n",
        "        return {'text': ''}\n",
        "\n",
        "# 전체 데이터 whisper 전사\n",
        "transcriptions = []\n",
        "\n",
        "for audio_file_path in tqdm(df['raw_data']):\n",
        "    transcription = transcribe_audio(audio_file_path)\n",
        "    transcriptions.append(transcription['text'])\n",
        "\n",
        "# 리스트를 새로운 열로 추가\n",
        "df['STT_transcript'] = transcriptions\n",
        "\n",
        "# 컬럼 순서 변경\n",
        "df = df[['transcript', 'STT_transcript', 'raw_data']]"
      ]
    },
    {
      "cell_type": "markdown",
      "metadata": {
        "id": "cnVscPvHO7XR"
      },
      "source": [
        "### 5-2. CER 비교"
      ]
    },
    {
      "cell_type": "markdown",
      "metadata": {
        "id": "7HHKc1qoSznB"
      },
      "source": [
        "#### CER 계산"
      ]
    },
    {
      "cell_type": "code",
      "execution_count": 15,
      "metadata": {
        "id": "IX6CGbOjO_ld"
      },
      "outputs": [],
      "source": [
        "# CER metric 로드\n",
        "cer_metric = load_metric(\"cer\", trust_remote_code=True)\n",
        "\n",
        "# CER 저장\n",
        "df = pd.read_csv(path)\n",
        "cer_diff = []\n",
        "\n",
        "for i in tqdm(range(len(df))):\n",
        "    try:\n",
        "        prediction = [df['transcript'][i]]\n",
        "        reference = [df['STT_transcript'][i]]\n",
        "        cer = cer_metric.compute(predictions=prediction, references=reference)\n",
        "        cer_diff.append(cer * 100)\n",
        "\n",
        "    except Exception as e:\n",
        "        print(i, e)\n",
        "        cer_diff.append(100)\n",
        "\n",
        "# 데이터프레임에 cer_diff 열 추가\n",
        "df['CER'] = cer_diff\n",
        "\n",
        "# cer 저장된 데이터 저장\n",
        "df.to_csv(f\"/content/youtube_dataset_clean/STT_transcript.csv\", index=False)"
      ]
    },
    {
      "cell_type": "code",
      "execution_count": 16,
      "metadata": {
        "id": "tL1Ac-WPR--x"
      },
      "outputs": [],
      "source": [
        "# CER 의 평균\n",
        "df['CER'].mean()"
      ]
    },
    {
      "cell_type": "markdown",
      "metadata": {
        "id": "vtL-sJtVS2kV"
      },
      "source": [
        "#### CER 비교 시각화"
      ]
    },
    {
      "cell_type": "code",
      "execution_count": 5,
      "metadata": {
        "colab": {
          "base_uri": "https://localhost:8080/",
          "height": 416
        },
        "id": "J8rWFIfaSJNv",
        "outputId": "4adb8e81-6a77-4d1f-ff77-9b914a65f450"
      },
      "outputs": [
        {
          "data": {
            "image/png": "[encoded data removed]",
            "text/plain": [
              "<IPython.core.display.Image object>"
            ]
          },
          "execution_count": 5,
          "metadata": {},
          "output_type": "execute_result"
        }
      ],
      "source": [
        "# Plotting the histogram for cer_diff\n",
        "\n",
        "# 임계값 설정\n",
        "threshold = 30\n",
        "\n",
        "plt.figure(figsize=(20, 6))\n",
        "plt.hist(df[df['CER']<=2000]['CER'], bins=200)\n",
        "plt.axvline(threshold, color='red', linestyle='dashed', linewidth=2)\n",
        "\n",
        "plt.xlabel('CER')\n",
        "plt.ylabel('Count')\n",
        "plt.title('Histogram of CER based on Difference btw Raw-transcript and Whisper-transript')\n",
        "plt.show()"
      ]
    },
    {
      "cell_type": "markdown",
      "metadata": {
        "id": "iAxAwkRCS5kz"
      },
      "source": [
        "#### CER이 threshold 이상인 데이터 제거"
      ]
    },
    {
      "cell_type": "code",
      "execution_count": 6,
      "metadata": {
        "id": "V38LaQWBS771"
      },
      "outputs": [],
      "source": [
        "# 임계값 설정\n",
        "threshold = 30\n",
        "\n",
        "# cer_diff가 임계값 이하인 데이터만 필터링\n",
        "filtered_df = df[df['CER'] <= threshold]\n",
        "filtered_df.head()\n",
        "\n",
        "# 결과 확인\n",
        "print(f'기존 데이터 길이 : {len(df)}')\n",
        "print(f'필터링된 데이터 길이 : {len(filtered_df)}')\n",
        "\n",
        "# 필터링된 데이터프레임을 파일로 저장\n",
        "filtered_df.to_csv(f\"/content/youtube_dataset_clean/STT_transcript.csv\", index=False)"
      ]
    },
    {
      "cell_type": "markdown",
      "metadata": {
        "id": "NksdiuyCBzg5"
      },
      "source": [
        "## 6. 데이터셋 업로드"
      ]
    },
    {
      "cell_type": "code",
      "execution_count": null,
      "metadata": {
        "id": "RoHMKHNYVWFZ"
      },
      "outputs": [],
      "source": [
        "from datasets import Dataset, DatasetDict, Audio, load_dataset\n",
        "from huggingface_hub import notebook_login\n",
        "\n",
        "notebook_login()"
      ]
    },
    {
      "cell_type": "markdown",
      "metadata": {
        "id": "lgGwH9B-ULO8"
      },
      "source": [
        "### 5-1. 원 데이터셋 업로드"
      ]
    },
    {
      "cell_type": "code",
      "execution_count": null,
      "metadata": {
        "id": "EE76_RkcTvs5"
      },
      "outputs": [],
      "source": [
        "# 오디오 파일 경로를 dict의 \"audio\" 키의 value로 넣고 이를 데이터셋으로 변환\n",
        "# 이때, Whisper가 요구하는 사양대로 Sampling rate는 16,000으로 설정한다.\n",
        "ds = Dataset.from_dict({\"audio\": [path for path in df[\"raw_data\"]],\n",
        "                       \"transcripts\": [transcript for transcript in df[\"transcript\"]]}).cast_column(\"audio\", Audio(sampling_rate=16000))"
      ]
    },
    {
      "cell_type": "code",
      "execution_count": null,
      "metadata": {
        "id": "ucDU6L2gT2BC"
      },
      "outputs": [],
      "source": [
        "# 데이터셋을 훈련 데이터와 테스트 데이터, 밸리데이션 데이터로 분할\n",
        "train_testvalid = ds.train_test_split(test_size=0.2)\n",
        "test_valid = train_testvalid[\"test\"].train_test_split(test_size=0.5)\n",
        "datasets = DatasetDict({\n",
        "    \"train\": train_testvalid[\"train\"],\n",
        "    \"test\": test_valid[\"test\"],\n",
        "    \"valid\": test_valid[\"train\"]})"
      ]
    },
    {
      "cell_type": "code",
      "execution_count": null,
      "metadata": {
        "id": "YbVG98lmT4tL"
      },
      "outputs": [],
      "source": [
        "# 데이터셋 업로드\n",
        "datasets.push_to_hub(\"your_dataset\")"
      ]
    },
    {
      "cell_type": "markdown",
      "metadata": {
        "id": "ah1ey5iDUOCS"
      },
      "source": [
        "### 5-2. 전처리된 데이터셋 업로드"
      ]
    },
    {
      "cell_type": "code",
      "execution_count": null,
      "metadata": {
        "id": "tzsymwbXUJ-q"
      },
      "outputs": [],
      "source": [
        "datasets  = load_dataset(f\"your_dataset\")"
      ]
    },
    {
      "cell_type": "code",
      "execution_count": null,
      "metadata": {
        "id": "mkmIU8SIUjUm"
      },
      "outputs": [],
      "source": [
        "feature_extractor = WhisperFeatureExtractor.from_pretrained(\"SungBeom/whisper-small-ko\")\n",
        "tokenizer = WhisperTokenizer.from_pretrained(\"SungBeom/whisper-small-ko\", language=\"Korean\", task=\"transcribe\")"
      ]
    },
    {
      "cell_type": "code",
      "execution_count": null,
      "metadata": {
        "id": "AZlGrZfLUWiV"
      },
      "outputs": [],
      "source": [
        "def prepare_dataset(batch):\n",
        "    # 오디오 파일을 16kHz로 로드\n",
        "    audio = batch[\"audio\"]\n",
        "\n",
        "    # input audio array로부터 log-Mel spectrogram 변환\n",
        "    batch[\"input_features\"] = feature_extractor(audio[\"array\"], sampling_rate=audio[\"sampling_rate\"]).input_features[0]\n",
        "\n",
        "    # target text를 label ids로 변환\n",
        "    batch[\"labels\"] = tokenizer(batch[\"transcripts\"]).input_ids\n",
        "    return batch"
      ]
    },
    {
      "cell_type": "code",
      "execution_count": null,
      "metadata": {
        "id": "mITlAG4SUs9x"
      },
      "outputs": [],
      "source": [
        "# 데이터 전처리 함수를 데이터셋 전체에 적용\n",
        "datasets_preprocessed = datasets.map(prepare_dataset, remove_columns=datasets.column_names[\"train\"], num_proc=None)"
      ]
    },
    {
      "cell_type": "code",
      "execution_count": null,
      "metadata": {
        "id": "Pb5ymWkCVAMC"
      },
      "outputs": [],
      "source": [
        "datasets_preprocessed.push_to_hub(f\"your_dataset_preprocessed\")"
      ]
    }
  ],
  "metadata": {
    "accelerator": "GPU",
    "colab": {
      "gpuType": "L4",
      "machine_shape": "hm",
      "provenance": []
    },
    "kernelspec": {
      "display_name": "Python 3",
      "name": "python3"
    },
    "language_info": {
      "name": "python"
    }
  },
  "nbformat": 4,
  "nbformat_minor": 0
}
